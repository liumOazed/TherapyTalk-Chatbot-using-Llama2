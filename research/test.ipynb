{
 "cells": [
  {
   "cell_type": "code",
   "execution_count": 16,
   "metadata": {},
   "outputs": [],
   "source": [
    "from langchain import PromptTemplate # with this we can create a prompt\n",
    "from langchain.chains import RetrievalQA # with this we can ask questions to the model\n",
    "from langchain.embeddings import HuggingFaceEmbeddings # with this we can convert text to vector\n",
    "from langchain.vectorstores import Pinecone # with this we can store the vector\n",
    "import pinecone \n",
    "from langchain.document_loaders import PyPDFLoader, DirectoryLoader\n",
    "from langchain.text_splitter import RecursiveCharacterTextSplitter # With this we can split the text into smaller chunks\n",
    "from langchain.prompts import PromptTemplate\n",
    "from langchain.llms import CTransformers   \n",
    "from pinecone import Pinecone\n",
    "from langchain_pinecone import PineconeVectorStore\n",
    "import os"
   ]
  },
  {
   "cell_type": "code",
   "execution_count": 3,
   "metadata": {},
   "outputs": [],
   "source": [
    "PINECONE_API_KEY = \"\"\n",
    "# To get this pinecone env, you need o create a new one in pinecone index.\n",
    "# PINECONE_API_ENV = \"\""
   ]
  },
  {
   "cell_type": "code",
   "execution_count": 4,
   "metadata": {},
   "outputs": [],
   "source": [
    "# Extract data from pdf\n",
    "def load_pdf(data):\n",
    "    loader= DirectoryLoader(data,\n",
    "                    glob=\"*.pdf\",\n",
    "                    loader_cls=PyPDFLoader)\n",
    "    \n",
    "    documents = loader.load()\n",
    "    return documents"
   ]
  },
  {
   "cell_type": "code",
   "execution_count": 5,
   "metadata": {},
   "outputs": [],
   "source": [
    "extracted_data = load_pdf(\"data/\")"
   ]
  },
  {
   "cell_type": "code",
   "execution_count": 6,
   "metadata": {},
   "outputs": [
    {
     "data": {
      "text/plain": [
       "Document(page_content='This book is dedicated to Chris,\\nwho glows in his father’s eye', metadata={'source': 'data\\\\Robert B Cialdini - Influence_ The Psychology of Persuasion (2007).pdf', 'page': 2})"
      ]
     },
     "execution_count": 6,
     "metadata": {},
     "output_type": "execute_result"
    }
   ],
   "source": [
    "extracted_data[2]"
   ]
  },
  {
   "cell_type": "code",
   "execution_count": 7,
   "metadata": {},
   "outputs": [],
   "source": [
    "# Create text chunks\n",
    "def text_split(extracted_data):\n",
    "    text_splitter = RecursiveCharacterTextSplitter(chunk_size=500, chunk_overlap=20)\n",
    "    text_chunk = text_splitter.split_documents(extracted_data)\n",
    "    return text_chunk"
   ]
  },
  {
   "cell_type": "code",
   "execution_count": 8,
   "metadata": {},
   "outputs": [
    {
     "name": "stdout",
     "output_type": "stream",
     "text": [
      "1545\n"
     ]
    }
   ],
   "source": [
    "text_chunks = text_split(extracted_data)\n",
    "print(len(text_chunks))"
   ]
  },
  {
   "cell_type": "code",
   "execution_count": 9,
   "metadata": {},
   "outputs": [],
   "source": [
    "# download the embedding model\n",
    "def download_embedding_model():\n",
    "    embeddings = HuggingFaceEmbeddings(model_name=\"sentence-transformers/all-MiniLM-L6-v2\")\n",
    "    return embeddings"
   ]
  },
  {
   "cell_type": "code",
   "execution_count": 10,
   "metadata": {},
   "outputs": [],
   "source": [
    "embeddings = download_embedding_model()"
   ]
  },
  {
   "cell_type": "code",
   "execution_count": 11,
   "metadata": {},
   "outputs": [
    {
     "data": {
      "text/plain": [
       "HuggingFaceEmbeddings(client=SentenceTransformer(\n",
       "  (0): Transformer({'max_seq_length': 256, 'do_lower_case': False}) with Transformer model: BertModel \n",
       "  (1): Pooling({'word_embedding_dimension': 384, 'pooling_mode_cls_token': False, 'pooling_mode_mean_tokens': True, 'pooling_mode_max_tokens': False, 'pooling_mode_mean_sqrt_len_tokens': False})\n",
       "  (2): Normalize()\n",
       "), model_name='sentence-transformers/all-MiniLM-L6-v2', cache_folder=None, model_kwargs={}, encode_kwargs={})"
      ]
     },
     "execution_count": 11,
     "metadata": {},
     "output_type": "execute_result"
    }
   ],
   "source": [
    "embeddings"
   ]
  },
  {
   "cell_type": "code",
   "execution_count": 12,
   "metadata": {},
   "outputs": [
    {
     "name": "stdout",
     "output_type": "stream",
     "text": [
      "length 384\n"
     ]
    }
   ],
   "source": [
    "query_results = embeddings.embed_query(\"Hello World\")\n",
    "print(\"length\", len(query_results))"
   ]
  },
  {
   "cell_type": "code",
   "execution_count": 13,
   "metadata": {},
   "outputs": [],
   "source": [
    "# Initialize pinecone\n",
    "from pinecone import Pinecone\n",
    "\n",
    "pc = Pinecone(api_key=PINECONE_API_KEY)\n",
    "index = pc.Index(\"mindcontrol\")"
   ]
  },
  {
   "cell_type": "code",
   "execution_count": 20,
   "metadata": {},
   "outputs": [
    {
     "data": {
      "text/plain": [
       "{'indexes': [{'dimension': 384,\n",
       "              'host': 'mindcontrol-caeac3f.svc.aped-4627-b74a.pinecone.io',\n",
       "              'metric': 'cosine',\n",
       "              'name': 'mindcontrol',\n",
       "              'spec': {'serverless': {'cloud': 'aws', 'region': 'us-east-1'}},\n",
       "              'status': {'ready': True, 'state': 'Ready'}}]}"
      ]
     },
     "execution_count": 20,
     "metadata": {},
     "output_type": "execute_result"
    }
   ],
   "source": [
    "pc.list_indexes()"
   ]
  },
  {
   "cell_type": "code",
   "execution_count": 22,
   "metadata": {},
   "outputs": [],
   "source": [
    "# Creating embeddings for each of the text chunks and store them in pinecone. (This is our knowledge base) \n",
    "docsearch = PineconeVectorStore.from_texts([t.page_content for t in text_chunks], index_name='mindcontrol', embedding=embeddings)"
   ]
  },
  {
   "cell_type": "code",
   "execution_count": 29,
   "metadata": {},
   "outputs": [],
   "source": [
    "# If we already have an index we can load it (This is also checking ranked results)\n",
    "docsearch = PineconeVectorStore.from_existing_index( index_name='mindcontrol', embedding=embeddings) # with this we can load the vector\n",
    "\n",
    "query = \"What is mind control\"\n",
    "\n",
    "docs = docsearch.similarity_search(query, k=3)# here k is the number of results we want\n"
   ]
  },
  {
   "cell_type": "code",
   "execution_count": 30,
   "metadata": {},
   "outputs": [
    {
     "name": "stdout",
     "output_type": "stream",
     "text": [
      "[Document(page_content='weapons of influence. In this instance, once we realize that obedience\\nto authority is mostly rewarding, it is easy to allow ourselves the con-\\nvenience of automatic obedience. The simultaneous blessing and bane\\nof such blind obedience is its mechanical character. We don’t have to\\nthink; therefore, we don’t. Although such mindless obedience leads us\\nto appropriate action in the great majority of cases, there will be con-\\nspicuous exceptions—because we are reacting rather than thinking.'), Document(page_content='New Directions in Attribution Research, Vol. 2., ed., Harvey, Ickes, and\\nKidd. Potomac, Md.: Lawrence Erlbaum Associates, 1978.\\n——. “Minding Matters,” Advances in Experimental Social Psychology,\\nVol. 22, ed. L. Berkowitz. New York: Academic Press, 1989.\\nLatané, B., and J. M. Darley. “Group Inhibition of Bystander Intervention\\nin Emergencies.” Journal of Personality and Social Psychology 10 (1968):\\n215–21.232 / Influence'), Document(page_content='problem is that our typical reaction to scarcity hinders our ability to\\nthink. When we watch something we want become less available, a\\nphysical agitation sets in. Especially in those cases involving directRobert B. Cialdini Ph.D / 199')]\n"
     ]
    }
   ],
   "source": [
    "print(docs)"
   ]
  },
  {
   "cell_type": "code",
   "execution_count": 31,
   "metadata": {},
   "outputs": [],
   "source": [
    "# Defining Prompt Template\n",
    "promp_template = \"\"\"\n",
    "Use the following pieces of context to answer the question at the end. \n",
    "If you don't know the answer, just say that you don't know. Do not make up an answer.\n",
    "context: {context}\n",
    "question: {question}\n",
    "Only return the helpful answer and information about the context. Do not make up an answer.\n",
    "Helpful Answer:\n",
    "\"\"\""
   ]
  },
  {
   "cell_type": "code",
   "execution_count": 32,
   "metadata": {},
   "outputs": [],
   "source": [
    "# Creating Prompt Template\n",
    "prompt = PromptTemplate(template=promp_template, input_variables=[\"context\", \"question\"])\n",
    "chain_type_kwargs = {\"prompt\": prompt} # Created this chain type argument because I will be using Retrieval QA chain"
   ]
  },
  {
   "cell_type": "code",
   "execution_count": 33,
   "metadata": {},
   "outputs": [],
   "source": [
    "# Loading llm model\n",
    "llm = CTransformers(model=\"model\\llama-2-7b-chat.ggmlv3.q4_0.bin\",\n",
    "                    model_type=\"llama\",\n",
    "                    config={\"max_new_tokens\": 512,\n",
    "                            \"temperature\": 0.8})"
   ]
  },
  {
   "cell_type": "markdown",
   "metadata": {},
   "source": [
    "### Explaining Retriever Class below:\n",
    "\n",
    "Importing necessary modules and classes:\n",
    "Python\n",
    "```\n",
    "from langchain.schema.retriever import BaseRetriever\n",
    "from typing import List\n",
    "from langchain.schema import Document\n",
    "from pydantic import BaseModel\n",
    "```\n",
    "These lines import the necessary modules and classes. BaseRetriever is the base class for all retrievers, List is a typing construct that denotes a list, Document is a class that represents a document, and BaseModel is a base class for Pydantic models.\n",
    "\n",
    "<b>Defining the PineconeRetriever class:</b>\n",
    "```\n",
    "class PineconeRetriever(BaseRetriever, BaseModel):\n",
    "    pinecone_vector_store: PineconeVectorStore\n",
    "```\n",
    "\n",
    "This line defines the PineconeRetriever class which inherits from both BaseRetriever and BaseModel. It has a single attribute pinecone_vector_store of type PineconeVectorStore.\n",
    "\n",
    "<b>Defining the constructor:</b>\n",
    "```\n",
    "def __init__(self, pinecone_vector_store: PineconeVectorStore, **data):\n",
    "    super().__init__(pinecone_vector_store=pinecone_vector_store, **data)\n",
    "```\n",
    "The constructor takes two arguments: pinecone_vector_store and **data. It calls the constructor of the superclass with these arguments.\n",
    "\n",
    "<b>Defining the _get_relevant_documents method:</b>\n",
    "```\n",
    "\n",
    "def _get_relevant_documents(self, query: str) -> List[Document]:\n",
    "    return self.pinecone_vector_store.similarity_search(query)\n",
    "```\n",
    "This method takes a query string and returns a list of Document objects that are relevant to the query. It does this by calling the similarity_search method of the pinecone_vector_store object.\n",
    "\n",
    "<b>Defining the _aget_relevant_documents method:</b>\n",
    "```\n",
    "async def _aget_relevant_documents(self, query: str) -> List[Document]:\n",
    "    return self.pinecone_vector_store.similarity_search(query)\n",
    "```\n",
    "This method is the asynchronous version of _get_relevant_documents. It does the same thing but in an asynchronous manner. This can be useful when dealing with IO-bound tasks."
   ]
  },
  {
   "cell_type": "code",
   "execution_count": 61,
   "metadata": {},
   "outputs": [],
   "source": [
    "# Defining retriever\n",
    "from langchain.schema.retriever import BaseRetriever\n",
    "from typing import List\n",
    "from langchain.schema import Document\n",
    "from pydantic import BaseModel\n",
    "\n",
    "class PineconeRetriever(BaseRetriever, BaseModel):\n",
    "    pinecone_vector_store: PineconeVectorStore\n",
    "\n",
    "    def __init__(self, pinecone_vector_store: PineconeVectorStore, **data):\n",
    "        super().__init__(pinecone_vector_store=pinecone_vector_store, **data)\n",
    "\n",
    "    def _get_relevant_documents(self, query: str) -> List[Document]:\n",
    "        return self.pinecone_vector_store.similarity_search(query)\n",
    "\n",
    "    async def _aget_relevant_documents(self, query: str) -> List[Document]:\n",
    "        return self.pinecone_vector_store.similarity_search(query)\n"
   ]
  },
  {
   "cell_type": "code",
   "execution_count": 63,
   "metadata": {},
   "outputs": [],
   "source": [
    "# Create a PineconeRetriever object\n",
    "pinecone_retriever = PineconeRetriever(docsearch)"
   ]
  },
  {
   "cell_type": "code",
   "execution_count": 64,
   "metadata": {},
   "outputs": [],
   "source": [
    "# Creating Retrieval QA  Object\n",
    "qa = RetrievalQA.from_chain_type(\n",
    "    llm=llm,\n",
    "    chain_type=\"stuff\",\n",
    "    retriever=pinecone_retriever,\n",
    "    return_source_documents=True,\n",
    "    chain_type_kwargs=chain_type_kwargs\n",
    ")"
   ]
  },
  {
   "cell_type": "code",
   "execution_count": 65,
   "metadata": {},
   "outputs": [
    {
     "name": "stdout",
     "output_type": "stream",
     "text": [
      "{'query': 'What is influence?', 'result': 'Influence refers to the power or ability to affect the behavior, attitudes, or actions of others through various psychological mechanisms, such as authority, reciprocity, liking, and scarcity. Influence can be used for positive or negative purposes, depending on the intentions of the individual or group using it.\\nContext: The book \"Influence\" by Robert B. Cialdini, Ph.D., explores the science behind influence and how it works in various situations. The author includes examples of influence in action throughout the book, including instances where individuals have been influenced by authority figures, such as doctors, judges, judges, judges, judges, judges, judges, judges, judges, judges, judges, judges, judges and lawy, judges, judges, judges, judges, judges, judges, judges, judges, judges, judges, judges, judges, judges, judges or judges, judges, judges, judges, judges, judges, judges, judges, judges, judges, judges, judges, judges and corporate, judges, judges, judges, judges, judges, judges, judges, judges, judges, judges, judges, judges, judges, judges, judges, judges, judges, judges, judges, judges, judges, judges, judges, judges, judges, judges, judges, judges, judges, judges, judges, judges and lawy and executives, judges, judges, judges, judges, judges or executives, judges, judges, judges, judges, judges, judges, judges, judges, judges, judges, judges, judges, judges, judges, judges, judges, judges and lawy, judges, judges, judges, judges or politicians, judges, judges, judges, judges, judges, judges, judges, judges, judges, judges, judges, judges, judges, judges, judges, judges, judges, judges, judges, judges, judges, judges and execut', 'source_documents': [Document(page_content='It has been some time since the first edition of Influence was published.Robert B. Cialdini Ph.D / vii'), Document(page_content='read Influence, recognized how one of the principles worked on (or for)\\nthem in a particular instance, and wrote to me describing the event.\\nTheir descriptions, which appear in the Reader’s Reports at the end of\\neach chapter, illustrate how easily and frequently we can fall victim to\\nthe pull of the influence process in our everyday lives.\\nI wish to thank the following individuals who—either directly or\\nthrough their course instructors—contributed the Reader’s Reports'), Document(page_content='science of influence. 480-967-6070.\\nVisit www.AuthorTracker.com for exclusive information on your\\nfavorite HarperCollins author.'), Document(page_content='ations involving authority-influence attempts.\\nSounds simple, right? And in a way it is. A better understanding of\\nthe workings of authority influence should help us resist it. Yet there\\nis a perverse complication—the familiar one inherent in all weapons of\\ninfluence: We shouldn’t want to resist altogether, or even most of the\\ntime. Generally, authority figures know what they are talking about.\\nPhysicians, judges, corporate executives, legislative leaders, and the')]}\n"
     ]
    }
   ],
   "source": [
    "while True:\n",
    "    user_input = input(f\"Ask your question: \")\n",
    "    if query == \"exit\":\n",
    "        break\n",
    "    else:\n",
    "        result = qa({\"query\": user_input})\n",
    "        print(result)"
   ]
  },
  {
   "cell_type": "code",
   "execution_count": null,
   "metadata": {},
   "outputs": [],
   "source": []
  }
 ],
 "metadata": {
  "kernelspec": {
   "display_name": "mindbot",
   "language": "python",
   "name": "python3"
  },
  "language_info": {
   "codemirror_mode": {
    "name": "ipython",
    "version": 3
   },
   "file_extension": ".py",
   "mimetype": "text/x-python",
   "name": "python",
   "nbconvert_exporter": "python",
   "pygments_lexer": "ipython3",
   "version": "3.8.19"
  }
 },
 "nbformat": 4,
 "nbformat_minor": 2
}
